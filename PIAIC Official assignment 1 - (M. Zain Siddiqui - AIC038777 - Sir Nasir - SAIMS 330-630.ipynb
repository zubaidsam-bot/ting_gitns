{
 "cells": [
  {
   "cell_type": "markdown",
   "metadata": {},
   "source": [
    "Name: Muhammad Zain Siddiqui\n",
    "PIAIC Roll No: AIC038777\n",
    "Teacher Name: Sir Nasir Hussain\n",
    "Institute: Sir Adam Jee Institute of Science and Technology\n",
    "Timings: 3:30 to 6:30 PM"
   ]
  },
  {
   "cell_type": "markdown",
   "metadata": {},
   "source": [
    "## 1. Calculate Area of a Circle"
   ]
  },
  {
   "cell_type": "markdown",
   "metadata": {},
   "source": [
    "#### Write a Python program which accepts the radius of a circle from the user and compute the area.\n",
    "###### Program Console Sample Output 1:\n",
    "###### Input Radius: 0.5\n",
    "###### Area of Circle with radius 0.5 is 0.7853981634"
   ]
  },
  {
   "cell_type": "code",
   "execution_count": 3,
   "metadata": {},
   "outputs": [
    {
     "name": "stdout",
     "output_type": "stream",
     "text": [
      "************CIRCLE AREA CALCULATOR**************\n",
      "Enter radius of a circle in mm:  0.5\n",
      "Area of circle with radius 0.5mm is 0.79 mm^2\n"
     ]
    }
   ],
   "source": [
    "print('************CIRCLE AREA CALCULATOR**************')\n",
    "rad=float(input('Enter radius of a circle in mm:  '))\n",
    "area = round(3.142*rad**2,2)\n",
    "print(f'Area of circle with radius {rad}mm is {area} mm^2')"
   ]
  },
  {
   "cell_type": "markdown",
   "metadata": {},
   "source": [
    "## 2. Check Number either positive, negative or zero"
   ]
  },
  {
   "cell_type": "markdown",
   "metadata": {},
   "source": [
    "#### Write a Python program to check if a number is positive, negative or zero\n",
    "###### Program Console Sample Output 1:\n",
    "###### Enter Number: -1\n",
    "##### Negative Number Entered\n",
    "###### Program Console Sample Output 2:\n",
    "##### Integer: 3\n",
    "##### Positive Number Entered\n",
    "###### Program Console Sample Output 3:\n",
    "##### Integer: 0\n",
    "###### Zero Entered"
   ]
  },
  {
   "cell_type": "code",
   "execution_count": 6,
   "metadata": {},
   "outputs": [
    {
     "name": "stdout",
     "output_type": "stream",
     "text": [
      "Input any number to check if its nature is positive, negative or zero:  0\n",
      "Zero Entered\n"
     ]
    }
   ],
   "source": [
    "num1=int(input('Input any number to check if its nature is positive, negative or zero:  '))\n",
    "\n",
    "if num1 > 0:\n",
    "    print('Positive Number Entered')\n",
    "elif num1 < 0:\n",
    "    print('Negative Number Entered')\n",
    "else:\n",
    "    print('Zero Entered')"
   ]
  },
  {
   "cell_type": "markdown",
   "metadata": {},
   "source": [
    "## 3. Divisibility Check of two numbers"
   ]
  },
  {
   "cell_type": "markdown",
   "metadata": {},
   "source": [
    "# Write a Python program to check whether a number is completely divisible by another number. Accept two integer values form the user\n",
    "##### Program Console Sample Output 1:\n",
    "###### Enter numerator: 4\n",
    "###### Enter Denominator: 2\n",
    "##### Number 4 is Completely divisible by 2\n",
    "###### Program Console Sample Output 2:\n",
    "##### Enter numerator: 7\n",
    "\n",
    "##### Enter Denominator: 4\n",
    "###### Number 7 is not Completely divisible by 4"
   ]
  },
  {
   "cell_type": "code",
   "execution_count": 9,
   "metadata": {},
   "outputs": [
    {
     "name": "stdout",
     "output_type": "stream",
     "text": [
      "Enter Numerator: 65\n",
      "Enter Denminator: 15\n",
      "Number 65 is not completely divisible by 15\n"
     ]
    }
   ],
   "source": [
    "num=int(input('Enter Numerator: '))\n",
    "den=int(input('Enter Denminator: '))\n",
    "\n",
    "if num%den == 0:\n",
    "    print(f'Number {num} is completely divisible by {den}')\n",
    "else:\n",
    "    print(f'Number {num} is not completely divisible by {den}')"
   ]
  },
  {
   "cell_type": "markdown",
   "metadata": {},
   "source": [
    "## 4. Calculate Volume of a sphere"
   ]
  },
  {
   "cell_type": "markdown",
   "metadata": {},
   "source": [
    "##### Write a Python program to get the volume of a sphere, please take the radius as input from user"
   ]
  },
  {
   "cell_type": "markdown",
   "metadata": {},
   "source": [
    "##### Program Console Output:\n",
    "##### Enter Radius of Sphere: 1\n",
    "###### Volume of the Sphere with Radius 1 is 4.18"
   ]
  },
  {
   "cell_type": "code",
   "execution_count": 11,
   "metadata": {},
   "outputs": [
    {
     "name": "stdout",
     "output_type": "stream",
     "text": [
      "************SPHERE VOLUME CALCULATOR**************\n",
      "Enter radius of Sphere in mm:  1\n",
      "Volume of Sphere with radius 1.0mm is 4.19 mm^3\n"
     ]
    }
   ],
   "source": [
    "print('************SPHERE VOLUME CALCULATOR**************')\n",
    "rad=float(input('Enter radius of Sphere in mm:  '))\n",
    "vol=round(4/3*3.142*rad**3,2)\n",
    "print(f'Volume of Sphere with radius {rad}mm is {vol} mm^3')"
   ]
  },
  {
   "cell_type": "markdown",
   "metadata": {},
   "source": [
    "## 5. Copy string n times\n",
    "#### Write a Python program to get a string which is n (non-negative integer) copies of a given string.\n",
    "##### Program Console Output:\n",
    "##### Enter String: Hi\n",
    "###### How many copies of String you need: 4\n",
    "###### 4 Copies of Hi are HiHiHiHi"
   ]
  },
  {
   "cell_type": "code",
   "execution_count": 17,
   "metadata": {},
   "outputs": [
    {
     "name": "stdout",
     "output_type": "stream",
     "text": [
      "Enter String:   hello\n",
      "How many copies of string you need:  4\n",
      "4 Copies of hello are hellohellohellohello\n"
     ]
    }
   ],
   "source": [
    "string=input('Enter String:   ')\n",
    "copies=int(input('How many copies of string you need:  '))\n",
    "result=string*copies\n",
    "print(f'{copies} Copies of {string} are {result}')"
   ]
  },
  {
   "cell_type": "markdown",
   "metadata": {},
   "source": [
    "## 6. Check if number is Even or Odd\n",
    "### Write a Python program to find whether a given number (accept from the user) is even or odd, print out an appropriate message to the user\n",
    "#### Program Console Output 1:\n",
    "##### Enter Number: 4\n",
    "###### 4 is Even\n",
    "#### Program Console Output 2:\n",
    "##### Enter Number: 9\n",
    "###### 9 is Odd"
   ]
  },
  {
   "cell_type": "code",
   "execution_count": 23,
   "metadata": {},
   "outputs": [
    {
     "name": "stdout",
     "output_type": "stream",
     "text": [
      "Input any number to check if it is even or odd: 7\n",
      "7 is odd\n"
     ]
    }
   ],
   "source": [
    "num=int(input('Input any number to check if it is even or odd: '))\n",
    "\n",
    "if num%2 == 0:\n",
    "    print(f'{num} is even')\n",
    "else:\n",
    "    print(f'{num} is odd')"
   ]
  },
  {
   "cell_type": "markdown",
   "metadata": {},
   "source": [
    "## 7. Vowel Tester\n",
    "### Write a Python program to test whether a passed letter is a vowel or not\n",
    "#### Program Console Output 1:\n",
    "##### Enter a character: A\n",
    "###### Letter A is Vowel\n",
    "#### Program Console Output 2:\n",
    "##### Enter a character: e\n",
    "###### Letter e is Vowel\n",
    "#### Program Console Output 2:\n",
    "##### Enter a character: N\n",
    "###### Letter N is not Vowel"
   ]
  },
  {
   "cell_type": "code",
   "execution_count": 29,
   "metadata": {},
   "outputs": [
    {
     "name": "stdout",
     "output_type": "stream",
     "text": [
      "VOWEL TESTER\n",
      "Enter a character:  z\n",
      "Letter z is not Vowel\n"
     ]
    }
   ],
   "source": [
    "print('VOWEL TESTER')\n",
    "vowel=input('Enter a character:  ').lower()\n",
    "\n",
    "if vowel=='a' or vowel=='e' or vowel=='i' or vowel=='o' or vowel=='u':\n",
    "    print(f'Letter {vowel} is Vowel')\n",
    "else:\n",
    "    print(f'Letter {vowel} is not Vowel')"
   ]
  },
  {
   "cell_type": "markdown",
   "metadata": {},
   "source": [
    "## 8. Triangle area\n",
    "### Write a Python program that will accept the base and height of a triangle and compute the area\n",
    "###### Reference:\n",
    "https://www.mathgoodies.com/lessons/vol1/area_triangle"
   ]
  },
  {
   "cell_type": "code",
   "execution_count": 33,
   "metadata": {},
   "outputs": [
    {
     "name": "stdout",
     "output_type": "stream",
     "text": [
      "************TRIANGLE AREA CALCULATOR**************\n",
      "Enter base of triangle in mm:  2.7\n",
      "Enter height of triangle in mm:  8.5\n",
      "Area of Triangle having base 2.7 mm and height 8.5 mm is 11.48 mm^2\n"
     ]
    }
   ],
   "source": [
    "print('************TRIANGLE AREA CALCULATOR**************')\n",
    "b=float(input('Enter base of triangle in mm:  '))\n",
    "h=float(input('Enter height of triangle in mm:  '))\n",
    "area = round(1/2*b*h,2)\n",
    "print(f'Area of Triangle having base {b} mm and height {h} mm is {area} mm^2')"
   ]
  },
  {
   "cell_type": "markdown",
   "metadata": {},
   "source": [
    "## 9. Calculate Interest\n",
    "### Write a Python program to compute the future value of a specified principal amount, rate of interest, and a number of years\n",
    "#### Program Console Sample 1:\n",
    "##### Please enter principal amount: 10000\n",
    "###### Please Enter Rate of interest in %: 0.1\n",
    "###### Enter number of years for investment: 5\n",
    "###### After 5 years your principal amount 10000 over an interest rate of 0.1 % will be 16105.1"
   ]
  },
  {
   "cell_type": "code",
   "execution_count": 13,
   "metadata": {},
   "outputs": [
    {
     "name": "stdout",
     "output_type": "stream",
     "text": [
      "Enter principal amount: 10000\n",
      "Enter rate interest in %: 10\n",
      "Enter number of years for investment: 5\n",
      "After 5 years your principal amount 10000 over an interest rate of 10.0 will be 16105.1\n"
     ]
    }
   ],
   "source": [
    "p=int(input(\"Enter principal amount: \"))\n",
    "r=float(input(\"Enter rate interest in %: \"))\n",
    "n=int(input(\"Enter number of years for investment: \"))\n",
    "future_value = round(p*(1+r/100)**n,1) \n",
    "print('After {2} years, your principal amount {0} over an interest rate of {1}% will be {3}'.format(p,r,n,future_value))"
   ]
  },
  {
   "cell_type": "markdown",
   "metadata": {},
   "source": [
    "## 10. Euclidean distance\n",
    "### write a Python program to compute the distance between the points (x1, y1) and (x2, y2).\n",
    "#### Program Console Sample 1:\n",
    "###### Enter Co-ordinate for x1: 2\n",
    "###### Enter Co-ordinate for x2: 4\n",
    "###### Enter Co-ordinate for y1: 4\n",
    "###### Enter Co-ordinate for y2: 4\n",
    "###### Distance between points (2, 4) and (4, 4) is 2"
   ]
  },
  {
   "cell_type": "markdown",
   "metadata": {},
   "source": [
    "###### Reference:\n",
    "https://en.wikipedia.org/wiki/Euclidean_distance"
   ]
  },
  {
   "cell_type": "code",
   "execution_count": 9,
   "metadata": {},
   "outputs": [
    {
     "name": "stdout",
     "output_type": "stream",
     "text": [
      "DISTANCE BETWEEN TWO POINTS\n",
      "Enter value of x1:  3.5\n",
      "Enter value of y1:  5\n",
      "Enter value of x2:  2.3\n",
      "Enter value of y2:  4\n",
      "The distance between (3.5,5.0) and ((2.3, 4.0)) is 1.2\n"
     ]
    }
   ],
   "source": [
    "print('DISTANCE BETWEEN TWO POINTS')\n",
    "\n",
    "x1=float(input('Enter value of x1:  '))\n",
    "y1=float(input('Enter value of y1:  '))\n",
    "x2=float(input('Enter value of x2:  '))\n",
    "y2=float(input('Enter value of y2:  '))\n",
    "\n",
    "distance = round((x2-x1)/(y2-y1),1)\n",
    "print(f'The distance between ({x1},{y1}) and ({x2,y2}) is {distance}')"
   ]
  },
  {
   "cell_type": "markdown",
   "metadata": {},
   "source": [
    "## 11. Feet to Centimeter Converter\n",
    "### Write a Python program to convert height in feet to centimetres.\n",
    "##### Program Console Sample 1:\n",
    "###### Enter Height in Feet: 5\n",
    "###### There are 152.4 Cm in 5 ft\n",
    "###### Reference:\n",
    "https://www.rapidtables.com/convert/length/feet-to-cm.html"
   ]
  },
  {
   "cell_type": "code",
   "execution_count": 12,
   "metadata": {},
   "outputs": [
    {
     "name": "stdout",
     "output_type": "stream",
     "text": [
      "FEET(ft) TO CENTIMETER(cm) CONVERTER\n",
      "Enter height in ft:   5\n",
      "There are 152.4 cm in 5.0 ft\n"
     ]
    }
   ],
   "source": [
    "print('FEET(ft) TO CENTIMETER(cm) CONVERTER')\n",
    "h_ft=float(input('Enter height in ft:   '))\n",
    "h_cm=round(h_ft*12*2.54,1)\n",
    "print(f'There are {h_cm} cm in {h_ft} ft')"
   ]
  },
  {
   "cell_type": "markdown",
   "metadata": {},
   "source": [
    "## 12. BMI Calculator\n",
    "### Write a Python program to calculate body mass index\n",
    "##### Program Console Sample 1:\n",
    "###### Enter Height in Cm: 180\n",
    "###### Enter Weight in Kg: 75\n",
    "###### Your BMI is 23.15"
   ]
  },
  {
   "cell_type": "code",
   "execution_count": 1,
   "metadata": {},
   "outputs": [
    {
     "name": "stdout",
     "output_type": "stream",
     "text": [
      "BMI CALCULATOR\n",
      "Enter height in cm:   180\n",
      "Enter mass in kg:   75\n",
      "Your BMI is 23.15\n"
     ]
    }
   ],
   "source": [
    "print('BMI CALCULATOR')\n",
    "height=float(input('Enter height in cm:   '))\n",
    "mass=float(input('Enter mass in kg:   '))\n",
    "bmi=round(mass/((height/100)**2),2)\n",
    "print(f'Your BMI is {bmi}')"
   ]
  },
  {
   "cell_type": "markdown",
   "metadata": {},
   "source": [
    "## 13. Sum of n Positive Integers\n",
    "### Write a python program to sum of the first n positive integers\n",
    "#### Program Console Sample 1:\n",
    "###### Enter value of n: 5\n",
    "###### Sum of n Positive integers till 5 is 15"
   ]
  },
  {
   "cell_type": "code",
   "execution_count": 20,
   "metadata": {},
   "outputs": [
    {
     "name": "stdout",
     "output_type": "stream",
     "text": [
      "Enter Number to calculate sum of n positive integers:  6\n",
      "Sum of  6 positive integers is:  21\n"
     ]
    }
   ],
   "source": [
    "n = int(input(\"Enter Number to calculate sum of n positive integers:  \"))\n",
    "sum=0\n",
    "for num in range(0,n+1):\n",
    "    sum+=num\n",
    "print(\"Sum of \", n, \"positive integers is: \", sum )"
   ]
  },
  {
   "cell_type": "markdown",
   "metadata": {},
   "source": [
    "## 14. Digits Sum of a Number\n",
    "### Write a Python program to calculate the sum of the digits in an integer\n",
    "#### Program Console Sample 1:\n",
    "##### Enter a number: 15\n",
    "###### Sum of 1 + 5 is 6\n",
    "#### Program Console Sample 2:\n",
    "##### Enter a number: 1234\n",
    "###### Sum of 1 + 2 + 3 + 4 is 10"
   ]
  },
  {
   "cell_type": "code",
   "execution_count": 4,
   "metadata": {},
   "outputs": [
    {
     "name": "stdout",
     "output_type": "stream",
     "text": [
      "Enter a number: 123\n",
      "Sum of ['1', '2', '3']  is 6\n"
     ]
    }
   ],
   "source": [
    "num = input(\"Enter a number: \")\n",
    "sum = 0\n",
    "for i in num:\n",
    "    sum += int(i)\n",
    "dig = [each for each in num if each in num] \n",
    "print(f'Sum of {dig}  is {sum}')"
   ]
  },
  {
   "cell_type": "code",
   "execution_count": null,
   "metadata": {},
   "outputs": [],
   "source": []
  }
 ],
 "metadata": {
  "kernelspec": {
   "display_name": "Python 3",
   "language": "python",
   "name": "python3"
  },
  "language_info": {
   "codemirror_mode": {
    "name": "ipython",
    "version": 3
   },
   "file_extension": ".py",
   "mimetype": "text/x-python",
   "name": "python",
   "nbconvert_exporter": "python",
   "pygments_lexer": "ipython3",
   "version": "3.7.3"
  }
 },
 "nbformat": 4,
 "nbformat_minor": 2
}
