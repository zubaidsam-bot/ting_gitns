{
 "cells": [
  {
   "cell_type": "code",
   "execution_count": null,
   "metadata": {},
   "outputs": [],
   "source": [
    "to_do =[\"aftari\", \"seheri\", \"fasting\", \"prayers\", \"traveeeh\", \"cricket\", \"gossips\" ]\n",
    "empty_list = []\n",
    "what_todo =input(\" Enter a task that you have done in day: \")\n",
    "if what_todo in to_do:\n",
    "    store_todo=to_do.index(what_todo)\n",
    "    to_do.pop(store_todo)\n",
    "    empty_list.append(what_todo)\n",
    "what_todo =input(\" Enter a task that you have done in day: \")\n",
    "if what_todo in to_do:\n",
    "    store_todo=to_do.index(what_todo)\n",
    "    to_do.pop(store_todo)\n",
    "    empty_list.append(what_todo)\n",
    "what_todo =input(\" Enter a task that you have done in day: \")\n",
    "if what_todo in to_do:\n",
    "    store_todo=to_do.index(what_todo)\n",
    "    to_do.pop(store_todo)\n",
    "    empty_list.append(what_todo)\n",
    "what_todo =input(\" Enter a task that you have done in day: \")\n",
    "if what_todo in to_do:\n",
    "    store_todo=to_do.index(what_todo)\n",
    "    to_do.pop(store_todo)\n",
    "    empty_list.append(what_todo)\n",
    "what_todo =input(\" Enter a task that you have done in day: \")\n",
    "if what_todo in to_do:\n",
    "    store_todo=to_do.index(what_todo)\n",
    "    to_do.pop(store_todo)\n",
    "    empty_list.append(what_todo)\n",
    "what_todo =input(\" Enter a task that you have done in day: \")\n",
    "if what_todo in to_do:\n",
    "    store_todo=to_do.index(what_todo)\n",
    "    to_do.pop(store_todo)\n",
    "    empty_list.append(what_todo)\n",
    "what_todo =input(\" Enter a task that you have done in day: \")\n",
    "if what_todo in to_do:\n",
    "    store_todo=to_do.index(what_todo)\n",
    "    to_do.pop(store_todo)\n",
    "    empty_list.append(what_todo)\n",
    "    print(f\"You have done:, {empty_list}\".lower() )\n",
    "    print (f\"your remaining tasks are:, {to_do}\".upper())  \n",
    "else:\n",
    "    print(\"YOUR HAVE ENTERED AN INVALID TASK\")"
   ]
  },
  {
   "cell_type": "raw",
   "metadata": {},
   "source": [
    "Steps: \n",
    "1- Make a list of some daily_tasks. E.g\n",
    "Awake , Assignment, Prayer , Recite Quran , Call , Aftar ,Tarvee and much more....... \n",
    "2- Make an empty list. \n",
    "3- take user input. \n",
    "4- if user Input is in the list , pop it and append it into empty list. \n",
    "When the length of your list is less then 1 your output should be: “Now your list is empty” \n",
    "And in the last if the users enter the task which is not in the list. \n",
    "Your output should be: “This task is not in the todo list”."
   ]
  },
  {
   "cell_type": "markdown",
   "metadata": {},
   "source": [
    "daily_list = [\"email\", \"call\", \"meeting\"] \n",
    "empty_list = []\n",
    "\n",
    "print(\"My Daily List:\")\n",
    "print(\"**************\")\n",
    "print(daily_list)\n",
    "\n",
    "while (daily_list != []):\n",
    "    \n",
    "    user_input = input(\" Enter a task that you have done in day: \")\n",
    "    if user_input in daily_list :\n",
    "        user_input_id = daily_list.index(user_input)\n",
    "        empty_list.append(daily_list.pop(user_input_id))\n",
    "        print(f\"your remaining task is, {daily_list}\")\n",
    "        print(f\"your completed task is, {empty_list}\") \n",
    "    else:\n",
    "         print('“This task is not in the to do list”')\n",
    "print('“Now your list is empty”') \n",
    "\n"
   ]
  },
  {
   "cell_type": "code",
   "execution_count": 6,
   "metadata": {},
   "outputs": [
    {
     "ename": "IndentationError",
     "evalue": "unindent does not match any outer indentation level (<tokenize>, line 11)",
     "output_type": "error",
     "traceback": [
      "\u001b[1;36m  File \u001b[1;32m\"<tokenize>\"\u001b[1;36m, line \u001b[1;32m11\u001b[0m\n\u001b[1;33m    if  user_input in daily_list :\u001b[0m\n\u001b[1;37m    ^\u001b[0m\n\u001b[1;31mIndentationError\u001b[0m\u001b[1;31m:\u001b[0m unindent does not match any outer indentation level\n"
     ]
    }
   ],
   "source": [
    "daily_list = [\"email\", \"call\", \"meeting\"] \n",
    "empty_list = []\n",
    "\n",
    "print(\"My Daily List:\")\n",
    "print(\"*******\")\n",
    "print(daily_list)\n",
    "\n",
    "while  (daily_list != []):\n",
    "        user_input = input(\" Enter a task that you have done in day: \")\n",
    "        \n",
    "    if  user_input in daily_list :\n",
    "        user_input_id = daily_list.index(user_input)\n",
    "        empty_list.append(daily_list.pop(user_input_id))\n",
    "        print(f\"your remaining task is, {daily_list}\")\n",
    "        print(f\"your completed task is, {empty_list}\") \n",
    "    else:\n",
    "        print('“This task is not in the to do list”')\n",
    "print('“Now your list is empty”')"
   ]
  },
  {
   "cell_type": "code",
   "execution_count": 1,
   "metadata": {},
   "outputs": [
    {
     "name": "stdout",
     "output_type": "stream",
     "text": [
      "My Daily List:\n",
      "**\n",
      "['email', 'call', 'meeting']\n",
      " Enter a task that you have done in day: marketting\n",
      "“This task is not in the to do list”\n",
      " Enter a task that you have done in day: call\n",
      "your remaining task is, ['email', 'meeting']\n",
      "your completed task is, ['call']\n",
      " Enter a task that you have done in day: email\n",
      "your remaining task is, ['meeting']\n",
      "your completed task is, ['call', 'email']\n",
      " Enter a task that you have done in day: meeting\n",
      "your remaining task is, []\n",
      "your completed task is, ['call', 'email', 'meeting']\n",
      "“Now your list is empty”\n"
     ]
    }
   ],
   "source": [
    "daily_list = [\"email\", \"call\", \"meeting\"]\n",
    "empty_list = []\n",
    "\n",
    "print(\"My Daily List:\")\n",
    "print(\"**\")\n",
    "print(daily_list)\n",
    "\n",
    "while (daily_list != []):\n",
    "    user_input = input(\" Enter a task that you have done in day: \")\n",
    "    \n",
    "    if user_input in daily_list :\n",
    "        \n",
    "        user_input_id = daily_list.index(user_input)\n",
    "        empty_list.append(daily_list.pop(user_input_id))\n",
    "        print(f\"your remaining task is, {daily_list}\")\n",
    "        print(f\"your completed task is, {empty_list}\") \n",
    "    \n",
    "    else:\n",
    "        print('“This task is not in the to do list”')\n",
    "print('“Now your list is empty”')"
   ]
  },
  {
   "cell_type": "code",
   "execution_count": null,
   "metadata": {},
   "outputs": [],
   "source": []
  },
  {
   "cell_type": "code",
   "execution_count": null,
   "metadata": {},
   "outputs": [],
   "source": []
  },
  {
   "cell_type": "code",
   "execution_count": null,
   "metadata": {},
   "outputs": [],
   "source": []
  },
  {
   "cell_type": "code",
   "execution_count": null,
   "metadata": {},
   "outputs": [],
   "source": []
  }
 ],
 "metadata": {
  "kernelspec": {
   "display_name": "Python 3",
   "language": "python",
   "name": "python3"
  },
  "language_info": {
   "codemirror_mode": {
    "name": "ipython",
    "version": 3
   },
   "file_extension": ".py",
   "mimetype": "text/x-python",
   "name": "python",
   "nbconvert_exporter": "python",
   "pygments_lexer": "ipython3",
   "version": "3.7.3"
  }
 },
 "nbformat": 4,
 "nbformat_minor": 2
}
