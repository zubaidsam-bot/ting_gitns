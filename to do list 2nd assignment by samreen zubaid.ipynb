{
 "cells": [
  {
   "cell_type": "markdown",
   "metadata": {},
   "source": [
    "Steps: \n",
    "1- Make a list of some daily_tasks. E.g\n",
    "Awake , Assignment, Prayer , Recite Quran , Call , Aftar ,Tarvee and much more....... \n",
    "2- Make an empty list. \n",
    "3- take user input. \n",
    "4- if user Input is in the list , pop it and append it into empty list. \n",
    "When the length of your list is less then 1 your output should be: “Now your list is empty” \n",
    "And in the last if the users enter the task which is not in the list. \n",
    "Your output should be: “This task is not in the todo list”."
   ]
  },
  {
   "cell_type": "code",
   "execution_count": 1,
   "metadata": {},
   "outputs": [
    {
     "name": "stdout",
     "output_type": "stream",
     "text": [
      "My Daily List:\n",
      "**\n",
      "['email', 'call', 'meeting']\n",
      " Enter a task that you have done in day: marketting\n",
      "“This task is not in the to do list”\n",
      " Enter a task that you have done in day: call\n",
      "your remaining task is, ['email', 'meeting']\n",
      "your completed task is, ['call']\n",
      " Enter a task that you have done in day: email\n",
      "your remaining task is, ['meeting']\n",
      "your completed task is, ['call', 'email']\n",
      " Enter a task that you have done in day: meeting\n",
      "your remaining task is, []\n",
      "your completed task is, ['call', 'email', 'meeting']\n",
      "“Now your list is empty”\n"
     ]
    }
   ],
   "source": [
    "daily_list = [\"email\", \"call\", \"meeting\"]\n",
    "empty_list = []\n",
    "\n",
    "print(\"My Daily List:\")\n",
    "print(\"**\")\n",
    "print(daily_list)\n",
    "\n",
    "while (daily_list != []):\n",
    "    user_input = input(\" Enter a task that you have done in day: \")\n",
    "    \n",
    "    if user_input in daily_list :\n",
    "        \n",
    "        user_input_id = daily_list.index(user_input)\n",
    "        empty_list.append(daily_list.pop(user_input_id))\n",
    "        print(f\"your remaining task is, {daily_list}\")\n",
    "        print(f\"your completed task is, {empty_list}\") \n",
    "    \n",
    "    else:\n",
    "        print('“This task is not in the to do list”')\n",
    "print('“Now your list is empty”')"
   ]
  },
  {
   "cell_type": "code",
   "execution_count": null,
   "metadata": {},
   "outputs": [],
   "source": []
  }
 ],
 "metadata": {
  "kernelspec": {
   "display_name": "Python 3",
   "language": "python",
   "name": "python3"
  },
  "language_info": {
   "codemirror_mode": {
    "name": "ipython",
    "version": 3
   },
   "file_extension": ".py",
   "mimetype": "text/x-python",
   "name": "python",
   "nbconvert_exporter": "python",
   "pygments_lexer": "ipython3",
   "version": "3.7.3"
  }
 },
 "nbformat": 4,
 "nbformat_minor": 2
}
