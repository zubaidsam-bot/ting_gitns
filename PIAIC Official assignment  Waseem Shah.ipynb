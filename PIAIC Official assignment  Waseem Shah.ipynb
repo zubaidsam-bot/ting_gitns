{
 "cells": [
  {
   "cell_type": "markdown",
   "metadata": {},
   "source": [
    " \n",
    "#Name: Waseem Shah - Sylani Head Office -- Sir Humza & Ali"
   ]
  },
  {
   "cell_type": "markdown",
   "metadata": {},
   "source": [
    "# 1. Calculate Area of a Circle"
   ]
  },
  {
   "cell_type": "markdown",
   "metadata": {},
   "source": [
    "#### Write a Python program which accepts the radius of a circle from the user and compute the area.\n",
    "###### Program Console Sample Output 1:\n",
    "###### Input Radius: 0.5\n",
    "###### Area of Circle with radius 0.5 is 0.7853981634"
   ]
  },
  {
   "cell_type": "code",
   "execution_count": 1,
   "metadata": {},
   "outputs": [
    {
     "name": "stdout",
     "output_type": "stream",
     "text": [
      "enter the radius of a circle0.5\n",
      "Area of Circle with radius0.5 is 0.785\n"
     ]
    }
   ],
   "source": [
    "pi=3.14\n",
    "r=float(input(\"enter the radius of a circle\"))\n",
    "area=( pi*r**2)\n",
    "print(f\"Area of Circle with radius{r} is {area}\")"
   ]
  },
  {
   "cell_type": "code",
   "execution_count": null,
   "metadata": {},
   "outputs": [],
   "source": []
  },
  {
   "cell_type": "markdown",
   "metadata": {},
   "source": [
    "# 2. Check Number either positive, negative or zero"
   ]
  },
  {
   "cell_type": "markdown",
   "metadata": {},
   "source": [
    "#### Write a Python program to check if a number is positive, negative or zero\n",
    "###### Program Console Sample Output 1:\n",
    "###### Enter Number: -1\n",
    "##### Negative Number Entered\n",
    "###### Program Console Sample Output 2:\n",
    "##### Integer: 3\n",
    "##### Positive Number Entered\n",
    "###### Program Console Sample Output 3:\n",
    "##### Integer: 0\n",
    "###### Zero Entered"
   ]
  },
  {
   "cell_type": "code",
   "execution_count": 3,
   "metadata": {},
   "outputs": [
    {
     "name": "stdout",
     "output_type": "stream",
     "text": [
      "please enter a number to check if a number is positive, negative or zero-1\n",
      "negative Number Entered.\n"
     ]
    }
   ],
   "source": [
    "num=int(input(\"please enter a number to check if a number is positive, negative or zero\"))\n",
    "if(num>0):\n",
    "    print(\"Positive Number Entered\")\n",
    "elif(num<0): \n",
    "    print( \"negative Number Entered.\")\n",
    "else: \n",
    "     print(\"Zero Entered.\")\n"
   ]
  },
  {
   "cell_type": "code",
   "execution_count": null,
   "metadata": {},
   "outputs": [],
   "source": []
  },
  {
   "cell_type": "markdown",
   "metadata": {},
   "source": [
    "## 3. Divisibility Check of two numbers"
   ]
  },
  {
   "cell_type": "markdown",
   "metadata": {},
   "source": [
    "Write a Python program to check whether a number is completely divisible by another number. Accept two integer values form the user\n",
    "Program Console Sample Output 1:\n",
    "Enter numerator: 4\n",
    "Enter Denominator: 2\n",
    "Number 4 is Completely divisible by 2\n",
    "Program Console Sample Output 2:\n",
    "Enter numerator: 7\n",
    "Enter Denominator: 4\n",
    "Number 7 is not Completely divisible by 4"
   ]
  },
  {
   "cell_type": "code",
   "execution_count": 2,
   "metadata": {},
   "outputs": [
    {
     "name": "stdout",
     "output_type": "stream",
     "text": [
      "Enter numerator: 7\n",
      "Enter Denominator: 4\n",
      "7 is not completely divisible by 4.\n"
     ]
    }
   ],
   "source": [
    "num1=int(input(\"Enter numerator: \"))\n",
    "num2=int(input(\"Enter Denominator: \"))\n",
    "result = num1%num2\n",
    "\n",
    "if(result==0):\n",
    "    print(f\"{num1} is completely divisible by {num2}\")\n",
    "else: \n",
    "    print(f\"{num1} is not completely divisible by {num2}.\")\n"
   ]
  },
  {
   "cell_type": "code",
   "execution_count": null,
   "metadata": {},
   "outputs": [],
   "source": []
  },
  {
   "cell_type": "markdown",
   "metadata": {},
   "source": [
    "## 4. Calculate Volume of a sphere"
   ]
  },
  {
   "cell_type": "markdown",
   "metadata": {},
   "source": [
    "##### Write a Python program to get the volume of a sphere, please take the radius as input from user"
   ]
  },
  {
   "cell_type": "markdown",
   "metadata": {},
   "source": [
    "##### Program Console Output:\n",
    "##### Enter Radius of Sphere: 1\n",
    "###### Volume of the Sphere with Radius 1 is 4.18"
   ]
  },
  {
   "cell_type": "code",
   "execution_count": 5,
   "metadata": {},
   "outputs": [
    {
     "name": "stdout",
     "output_type": "stream",
     "text": [
      "enter the radius of a sphere1\n",
      "volume of sphere with 1.0 is 4.1866666666666665\n"
     ]
    }
   ],
   "source": [
    "##Calculate Volume of a sphere¶\n",
    "r=float(input(\"enter the radius of a sphere\"))\n",
    "pi=3.14\n",
    "area_of_sphere=(4/3*pi*r*r*r)\n",
    "print(f'volume of sphere with {r} is {area_of_sphere}')\n"
   ]
  },
  {
   "cell_type": "markdown",
   "metadata": {},
   "source": [
    "## 5. Copy string n times\n",
    "#### Write a Python program to get a string which is n (non-negative integer) copies of a given string.\n",
    "##### Program Console Output:\n",
    "##### Enter String: Hi\n",
    "###### How many copies of String you need: 4\n",
    "###### 4 Copies of Hi are HiHiHiHi"
   ]
  },
  {
   "cell_type": "code",
   "execution_count": 11,
   "metadata": {},
   "outputs": [
    {
     "name": "stdout",
     "output_type": "stream",
     "text": [
      "Enter String:   hi\n",
      "How many copies of string you need:  4\n",
      "4 Copies of Hi are HiHiHiHi\n"
     ]
    }
   ],
   "source": [
    "str=input('Enter String:   ')\n",
    "str=str.title()\n",
    "copies=int(input('How many copies of string you need:  '))\n",
    "result=str*copies\n",
    "print(f'{copies} Copies of {str} are {result}')"
   ]
  },
  {
   "cell_type": "markdown",
   "metadata": {},
   "source": [
    "## 6. Check if number is Even or Odd\n",
    "### Write a Python program to find whether a given number (accept from the user) is even or odd, print out an appropriate message to the user\n",
    "#### Program Console Output 1:\n",
    "##### Enter Number: 4\n",
    "###### 4 is Even\n",
    "#### Program Console Output 2:\n",
    "##### Enter Number: 9\n",
    "###### 9 is Odd"
   ]
  },
  {
   "cell_type": "code",
   "execution_count": 9,
   "metadata": {},
   "outputs": [
    {
     "name": "stdout",
     "output_type": "stream",
     "text": [
      "Enter a number9\n",
      "9 is  odd \n"
     ]
    }
   ],
   "source": [
    "num=int(input(\"Enter a number\"))\n",
    "if(num%2==0):\n",
    "    print(f\"{num} is even \")\n",
    "else: \n",
    "    print(f\"{num} is  odd \")\n",
    "\n"
   ]
  },
  {
   "cell_type": "markdown",
   "metadata": {},
   "source": [
    "# 7. Vowel Tester\n",
    "### Write a Python program to test whether a passed letter is a vowel or not\n",
    "#### Program Console Output 1:\n",
    "##### Enter a character: A\n",
    "###### Letter A is Vowel\n",
    "#### Program Console Output 2:\n",
    "##### Enter a character: e\n",
    "###### Letter e is Vowel\n",
    "#### Program Console Output 2:\n",
    "##### Enter a character: N\n",
    "###### Letter N is not Vowel"
   ]
  },
  {
   "cell_type": "code",
   "execution_count": 10,
   "metadata": {},
   "outputs": [
    {
     "name": "stdout",
     "output_type": "stream",
     "text": [
      "VOWEL TESTER\n",
      "Enter a character:  E\n",
      "Letter E is Vowel\n"
     ]
    }
   ],
   "source": [
    "print('VOWEL TESTER')\n",
    "vowel=input('Enter a character:  ').upper()\n",
    "\n",
    "if vowel=='A' or vowel=='E' or vowel=='I' or vowel=='O' or vowel=='U':\n",
    "    print(f'Letter {vowel} is Vowel')\n",
    "else:\n",
    "    print(f'Letter {vowel} is not Vowel')"
   ]
  },
  {
   "cell_type": "markdown",
   "metadata": {},
   "source": [
    "## 8. Triangle area\n",
    "### Write a Python program that will accept the base and height of a triangle and compute the area\n",
    "###### Reference:\n",
    "https://www.mathgoodies.com/lessons/vol1/area_triangle"
   ]
  },
  {
   "cell_type": "code",
   "execution_count": 1,
   "metadata": {},
   "outputs": [
    {
     "name": "stdout",
     "output_type": "stream",
     "text": [
      "************TRIANGLE AREA CALCULATOR**************\n",
      "Enter base of triangle in mm:  20\n",
      "Enter height of triangle in mm:  40\n",
      "Area of Triangle having base 20.0 mm and height 40.0 mm is 400.0 mm^2\n"
     ]
    }
   ],
   "source": [
    "print('************TRIANGLE AREA CALCULATOR**************')\n",
    "b=float(input('Enter base of triangle in mm:  '))\n",
    "h=float(input('Enter height of triangle in mm:  '))\n",
    "area_of_triangle = b*h/2\n",
    "print(f'Area of Triangle having base {b} mm and height {h} mm is {area_of_triangle} mm^2')"
   ]
  },
  {
   "cell_type": "code",
   "execution_count": null,
   "metadata": {},
   "outputs": [],
   "source": []
  },
  {
   "cell_type": "markdown",
   "metadata": {},
   "source": [
    "## 9. Calculate Interest\n",
    "### Write a Python program to compute the future value of a specified principal amount, rate of interest, and a number of years\n",
    "#### Program Console Sample 1:\n",
    "##### Please enter principal amount: 10000\n",
    "###### Please Enter Rate of interest in %: 0.1\n",
    "###### Enter number of years for investment: 5\n",
    "###### After 5 years your principal amount 10000 over an interest rate of 0.1 % will be 16105.1"
   ]
  },
  {
   "cell_type": "code",
   "execution_count": 22,
   "metadata": {},
   "outputs": [
    {
     "name": "stdout",
     "output_type": "stream",
     "text": [
      "Please enter principal amount 10000\n",
      "Please Enter Rate of interest in %: 0.1\n",
      "Enter number of years for investment: 5\n",
      "After 5.0 years,your principal amount 10000.0 over an interest rate of 0.1% will be 16105.1\n"
     ]
    }
   ],
   "source": [
    "pv=float(input(\"Please enter principal amount \"))\n",
    "rate=float(input(\"Please Enter Rate of interest in %: \"))\n",
    "n=float(input(\"Enter number of years for investment: \"))\n",
    "fv = round(pv*(1+rate)**n,1) \n",
    "print(f'After {n} years,your principal amount {pv} over an interest rate of {rate}% will be {fv}')"
   ]
  },
  {
   "cell_type": "code",
   "execution_count": null,
   "metadata": {},
   "outputs": [],
   "source": [
    "\n"
   ]
  },
  {
   "cell_type": "markdown",
   "metadata": {},
   "source": [
    "## 10. Euclidean distance\n",
    "### write a Python program to compute the distance between the points (x1, y1) and (x2, y2).\n",
    "#### Program Console Sample 1:\n",
    "###### Enter Co-ordinate for x1: 2\n",
    "###### Enter Co-ordinate for x2: 4\n",
    "###### Enter Co-ordinate for y1: 4\n",
    "###### Enter Co-ordinate for y2: 4\n",
    "###### Distance between points (2, 4) and (4, 4) is 2"
   ]
  },
  {
   "cell_type": "markdown",
   "metadata": {},
   "source": [
    "###### Reference:\n",
    "https://en.wikipedia.org/wiki/Euclidean_distance"
   ]
  },
  {
   "cell_type": "code",
   "execution_count": 58,
   "metadata": {},
   "outputs": [
    {
     "name": "stdout",
     "output_type": "stream",
     "text": [
      "Enter value of x1:  2\n",
      "Enter value of y1:  4\n",
      "Enter value of x2:  4\n",
      "Enter value of y2:  4\n",
      "Distance between points [2, 4] and [4, 4] is 2.0\n"
     ]
    }
   ],
   "source": [
    "#### print('DISTANCE BETWEEN TWO POINTS')\n",
    "\n",
    "x1=int(input('Enter value of x1:  '))\n",
    "y1=int(input('Enter value of y1:  '))\n",
    "x2=int(input('Enter value of x2:  '))\n",
    "y2=int(input('Enter value of y2:  '))\n",
    "\n",
    "\n",
    "from math import sqrt\n",
    "plot1=[x1,y1]\n",
    "plot2=[x2,y2]\n",
    "Euclidean_distance= sqrt((plot1[0]-plot2[0])**2+(plot1[1]-plot2[1])**2)\n",
    "print(f'Distance between points {plot1} and {plot2} is {Euclidean_distance}')\n",
    "\n",
    "\n"
   ]
  },
  {
   "cell_type": "code",
   "execution_count": null,
   "metadata": {},
   "outputs": [],
   "source": []
  },
  {
   "cell_type": "markdown",
   "metadata": {},
   "source": [
    "## 11. Feet to Centimeter Converter\n",
    "### Write a Python program to convert height in feet to centimetres.\n",
    "##### Program Console Sample 1:\n",
    "###### Enter Height in Feet: 5\n",
    "###### There are 152.4 Cm in 5 ft\n",
    "###### Reference:\n",
    "https://www.rapidtables.com/convert/length/feet-to-cm.html"
   ]
  },
  {
   "cell_type": "code",
   "execution_count": 1,
   "metadata": {},
   "outputs": [
    {
     "name": "stdout",
     "output_type": "stream",
     "text": [
      "Feet to Centimeter Converter\n",
      "Enter Height only in Feet:5\n",
      "there are 152.4 cm in 5.0 ft\n"
     ]
    }
   ],
   "source": [
    "print(\"Feet to Centimeter Converter\")\n",
    "feet=float(input(\"Enter Height only in Feet:\"))\n",
    "height=30.480*(feet)\n",
    "print(f\"there are {height} cm in {feet} ft\")\n",
    "\n"
   ]
  },
  {
   "cell_type": "code",
   "execution_count": null,
   "metadata": {},
   "outputs": [],
   "source": []
  },
  {
   "cell_type": "markdown",
   "metadata": {},
   "source": [
    "## 12. BMI Calculator\n",
    "### Write a Python program to calculate body mass index\n",
    "##### Program Console Sample 1:\n",
    "###### Enter Height in Cm: 180\n",
    "###### Enter Weight in Kg: 75\n",
    "###### Your BMI is 23.15"
   ]
  },
  {
   "cell_type": "code",
   "execution_count": 13,
   "metadata": {},
   "outputs": [
    {
     "name": "stdout",
     "output_type": "stream",
     "text": [
      "calculate body mass index\n",
      "Enter Height  in Cm:180\n",
      "Enter Weight in Kg:75\n",
      "Your BMI is 23.15\n"
     ]
    }
   ],
   "source": [
    "print(\"calculate body mass index\")\n",
    "he=float(input(\"Enter Height  in Cm:\"))\n",
    "we=float(input(\"Enter Weight in Kg:\"))\n",
    "bmi=round((we/he**2)*10000,2)\n",
    "print (f\"Your BMI is {bmi}\")\n"
   ]
  },
  {
   "cell_type": "markdown",
   "metadata": {},
   "source": [
    "## 13. Sum of n Positive Integers\n",
    "### Write a python program to sum of the first n positive integers\n",
    "#### Program Console Sample 1:\n",
    "###### Enter value of n: 5\n",
    "###### Sum of n Positive integers till 5 is 15"
   ]
  },
  {
   "cell_type": "code",
   "execution_count": 5,
   "metadata": {},
   "outputs": [
    {
     "name": "stdout",
     "output_type": "stream",
     "text": [
      "Sum of n Positive Integers\n",
      "Enter value of n:  5\n",
      "[1, 2, 3, 4, 5]\n",
      "Sum of  Positive integers till 5 is 15\n"
     ]
    }
   ],
   "source": [
    "print(\"Sum of n Positive Integers\")\n",
    "n=int(input(\"Enter value of n:  \"))\n",
    "number=list(range(1,n+1))\n",
    "print(number)\n",
    "q=sum (number)\n",
    "print(f'Sum of  Positive integers till {n} is {q}')"
   ]
  },
  {
   "cell_type": "markdown",
   "metadata": {},
   "source": [
    "14. Digits Sum of a Number\n",
    "Write a Python program to calculate the sum of the digits in an integer\n",
    "Program Console Sample 1:\n",
    "Enter a number: 15\n",
    "Sum of 1 + 5 is 6\n",
    "Program Console Sample 2:\n",
    "Enter a number: 1234\n",
    "Sum of 1 + 2 + 3 + 4 is 10"
   ]
  },
  {
   "cell_type": "code",
   "execution_count": 7,
   "metadata": {},
   "outputs": [
    {
     "name": "stdout",
     "output_type": "stream",
     "text": [
      "Enter a number: 1234\n",
      "Sum of ['1', '2', '3', '4']  is 10\n"
     ]
    }
   ],
   "source": [
    "number = input(\"Enter a number: \")\n",
    "sum = 0\n",
    "for i in number:\n",
    "    sum += int(i)    \n",
    "digits = [each for each in number if each in number] \n",
    "print(f'Sum of {digits}  is {sum}')"
   ]
  }
 ],
 "metadata": {
  "kernelspec": {
   "display_name": "Python 3",
   "language": "python",
   "name": "python3"
  },
  "language_info": {
   "codemirror_mode": {
    "name": "ipython",
    "version": 3
   },
   "file_extension": ".py",
   "mimetype": "text/x-python",
   "name": "python",
   "nbconvert_exporter": "python",
   "pygments_lexer": "ipython3",
   "version": "3.7.3"
  }
 },
 "nbformat": 4,
 "nbformat_minor": 2
}
